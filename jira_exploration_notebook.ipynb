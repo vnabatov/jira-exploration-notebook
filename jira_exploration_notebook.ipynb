{
 "cells": [
  {
   "cell_type": "code",
   "execution_count": 1,
   "metadata": {},
   "outputs": [
    {
     "data": {
      "text/html": [
       "<script>\n",
       "code_show=true; \n",
       "function code_toggle() {\n",
       " if (code_show){\n",
       " $('div.input').hide();\n",
       " } else {\n",
       " $('div.input').show();\n",
       " }\n",
       " code_show = !code_show\n",
       "} \n",
       "$( document ).ready(code_toggle);\n",
       "</script>\n",
       "<form action=\"javascript:code_toggle()\"><input type=\"submit\" value=\"Click here to toggle on/off the raw code.\"></form>"
      ],
      "text/plain": [
       "<IPython.core.display.HTML object>"
      ]
     },
     "execution_count": 1,
     "metadata": {},
     "output_type": "execute_result"
    }
   ],
   "source": [
    "from IPython.display import HTML\n",
    "\n",
    "HTML('''<script>\n",
    "code_show=true; \n",
    "function code_toggle() {\n",
    " if (code_show){\n",
    " $('div.input').hide();\n",
    " } else {\n",
    " $('div.input').show();\n",
    " }\n",
    " code_show = !code_show\n",
    "} \n",
    "$( document ).ready(code_toggle);\n",
    "</script>\n",
    "<form action=\"javascript:code_toggle()\"><input type=\"submit\" value=\"Click here to toggle on/off the raw code.\"></form>''')"
   ]
  },
  {
   "cell_type": "markdown",
   "metadata": {},
   "source": [
    "# Jira exploration notebook\n",
    "\n",
    "### Workflow stages\n",
    "1. Question or problem definition.\n",
    "2. Acquire training and testing data.\n",
    "3. Wrangle, prepare, cleanse the data.\n",
    "4. Analyze, identify patterns, and explore the data.\n",
    "5. Model, predict and solve the problem.\n",
    "6. Visualize, report, and present the problem solving steps and final solution."
   ]
  },
  {
   "cell_type": "markdown",
   "metadata": {},
   "source": [
    "### Question and problem definition\n",
    "Contrary to common belief, the hardest part of data science isn’t building an accurate model or obtaining good, clean data. It is much harder to define feasible problems and come up with reasonable ways of measuring solutions. In agile domain this is not different, our job is make these questions to help teams succeed."
   ]
  },
  {
   "cell_type": "markdown",
   "metadata": {},
   "source": [
    "### Workflow goals\n",
    "The data science solutions workflow solves for seven major goals.\n",
    "\n",
    "**Classifying**. We may want to classify or categorize our samples. We may also want to understand the implications or correlation of different classes with our solution goal.\n",
    "\n",
    "**Correlating**. One can approach the problem based on available features within the training dataset. Which features within the dataset contribute significantly to our solution goal? Statistically speaking is there a correlation among a feature and solution goal? As the feature values change does the solution state change as well, and visa-versa? This can be tested both for numerical and categorical features in the given dataset. We may also want to determine correlation among features other than survival for subsequent goals and workflow stages. Correlating certain features may help in creating, completing, or correcting features.\n",
    "\n",
    "**Converting**. For modeling stage, one needs to prepare the data. Depending on the choice of model algorithm one may require all features to be converted to numerical equivalent values. So for instance converting text categorical values to numeric values.\n",
    "\n",
    "**Completing**. Data preparation may also require us to estimate any missing values within a feature. Model algorithms may work best when there are no missing values.\n",
    "\n",
    "**Correcting**. We may also analyze the given training dataset for errors or possibly innacurate values within features and try to corrent these values or exclude the samples containing the errors. One way to do this is to detect any outliers among our samples or features. We may also completely discard a feature if it is not contribting to the analysis or may significantly skew the results.\n",
    "\n",
    "**Creating**. Can we create new features based on an existing feature or a set of features, such that the new feature follows the correlation, conversion, completeness goals.\n",
    "\n",
    "**Charting**. How to select the right visualization plots and charts depending on nature of the data and the solution goals."
   ]
  },
  {
   "cell_type": "markdown",
   "metadata": {},
   "source": [
    "### Best practices\n",
    "* Performing feature correlation analysis early in the project.\n",
    "* Using multiple plots instead of overlays for readability."
   ]
  },
  {
   "cell_type": "code",
   "execution_count": 17,
   "metadata": {},
   "outputs": [],
   "source": [
    "#Disable ssl warnings\n",
    "import urllib3\n",
    "urllib3.disable_warnings(urllib3.exceptions.InsecureRequestWarning)\n",
    "\n",
    "# jira dataset and credentials\n",
    "from getpass import getpass\n",
    "from jira import JIRA\n",
    "\n",
    "# data analysis and wrangling\n",
    "import numpy as np\n",
    "import pandas as pd\n",
    "from pandas import DataFrame\n",
    "\n",
    "# visualization\n",
    "import seaborn as sns\n",
    "import matplotlib.pyplot as plt\n",
    "%matplotlib inline\n",
    "\n",
    "import matplotlib.pyplot as plt\n",
    " \n",
    "fig_size = plt.rcParams[\"figure.figsize\"]\n",
    "fig_size[0] = 12\n",
    "fig_size[1] = 6\n",
    "plt.rcParams[\"figure.figsize\"] = fig_size\n",
    "\n",
    "# machine learning\n",
    "from sklearn.linear_model import LogisticRegression\n",
    "from sklearn.svm import SVC, LinearSVC\n",
    "from sklearn.ensemble import RandomForestClassifier\n",
    "from sklearn.neighbors import KNeighborsClassifier\n",
    "from sklearn.naive_bayes import GaussianNB\n",
    "from sklearn.linear_model import Perceptron\n",
    "from sklearn.linear_model import SGDClassifier\n",
    "from sklearn.tree import DecisionTreeClassifier"
   ]
  },
  {
   "cell_type": "markdown",
   "metadata": {},
   "source": [
    "### Acquire data\n",
    "The Python Pandas packages helps us work with our datasets, Jira packages helps fetching board data from server. We start by acquiring issues and statuses into Pandas DataFrames."
   ]
  },
  {
   "cell_type": "code",
   "execution_count": 18,
   "metadata": {},
   "outputs": [],
   "source": [
    "# Retrieve jira credentials\n",
    "df = pd.read_csv('jiracreds.csv')\n",
    "\n",
    "jira = JIRA(options={'server': \"https://jira.wiley.com/\", 'verify': False},\n",
    "            basic_auth=(df['login'][0], df['pass'][0]))\n"
   ]
  },
  {
   "cell_type": "code",
   "execution_count": 19,
   "metadata": {},
   "outputs": [],
   "source": [
    "# Get isse transitions from jira server\n",
    "def read_data_sets(jql, max_results=10000, status_alias=None):\n",
    "    if status_alias is None:\n",
    "        status_alias = {}\n",
    "\n",
    "    issues = jira.search_issues(jql, maxResults=max_results, expand='changelog')\n",
    "    rows = []\n",
    "    for issue in issues:\n",
    "        # Add the issue creation as the fist event transition           \n",
    "        try:\n",
    "            epic = issue.raw['fields']['customfield_16525'] or 'empty'\n",
    "        except Exception as e:\n",
    "            epic = 'empty'\n",
    "    \n",
    "        # Issue creation (None -> Backlog)\n",
    "        rows.append({'key': issue.key,\n",
    "                     'ts': issue.fields.created,\n",
    "                     'from': None,\n",
    "                     'to': status_alias.get('Backlog') or 'Backlog'})\n",
    "        \n",
    "        # Other transitions (Eg: Backlog to Development)\n",
    "        for history in issue.changelog.histories:\n",
    "            for item in history.items:\n",
    "                if item.field == 'status':\n",
    "                    rows.append({'key': issue.key,\n",
    "                                 'epic': epic or 'empty',\n",
    "                                 'ts': history.created,\n",
    "                                 'from': status_alias.get(item.fromString) or item.fromString,\n",
    "                                 'to': status_alias.get(item.toString) or item.toString})                    \n",
    "    return DataFrame(rows)"
   ]
  },
  {
   "cell_type": "code",
   "execution_count": 20,
   "metadata": {},
   "outputs": [],
   "source": [
    "# dirty status -> desired status\n",
    "alias={\n",
    "       'Delivery': '3Delivery',\n",
    "       'Backlog': '0Backlog',\n",
    "       'Closed': '5Done',\n",
    "       'In QA': '2Test',\n",
    "       'In Development': 'Development',\n",
    "       'In Code Review': 'Development',\n",
    "       'Ready For QA': '2Test',\n",
    "       }\n",
    "transitions = read_data_sets(jql='project=CPP2 AND createdDate>-1w', status_alias=alias)"
   ]
  },
  {
   "cell_type": "markdown",
   "metadata": {},
   "source": [
    "### Analyze by describing data\n",
    "Pandas also helps describe the datasets answering following questions early in our research.\n",
    "\n",
    "* Which features are available in the dataset?"
   ]
  },
  {
   "cell_type": "code",
   "execution_count": 21,
   "metadata": {},
   "outputs": [
    {
     "name": "stdout",
     "output_type": "stream",
     "text": [
      "['epic' 'from' 'key' 'to' 'ts']\n"
     ]
    }
   ],
   "source": [
    "print(transitions.columns.values)"
   ]
  },
  {
   "cell_type": "markdown",
   "metadata": {},
   "source": [
    "* Which features are categorical?\n",
    "* Which features are numerical?"
   ]
  },
  {
   "cell_type": "code",
   "execution_count": 22,
   "metadata": {},
   "outputs": [
    {
     "data": {
      "text/html": [
       "<div>\n",
       "<style scoped>\n",
       "    .dataframe tbody tr th:only-of-type {\n",
       "        vertical-align: middle;\n",
       "    }\n",
       "\n",
       "    .dataframe tbody tr th {\n",
       "        vertical-align: top;\n",
       "    }\n",
       "\n",
       "    .dataframe thead th {\n",
       "        text-align: right;\n",
       "    }\n",
       "</style>\n",
       "<table border=\"1\" class=\"dataframe\">\n",
       "  <thead>\n",
       "    <tr style=\"text-align: right;\">\n",
       "      <th></th>\n",
       "      <th>epic</th>\n",
       "      <th>from</th>\n",
       "      <th>key</th>\n",
       "      <th>to</th>\n",
       "      <th>ts</th>\n",
       "    </tr>\n",
       "  </thead>\n",
       "  <tbody>\n",
       "    <tr>\n",
       "      <th>0</th>\n",
       "      <td>NaN</td>\n",
       "      <td>None</td>\n",
       "      <td>CPP2-1362</td>\n",
       "      <td>0Backlog</td>\n",
       "      <td>2020-03-27T09:28:21.000-0400</td>\n",
       "    </tr>\n",
       "    <tr>\n",
       "      <th>1</th>\n",
       "      <td>NaN</td>\n",
       "      <td>None</td>\n",
       "      <td>CPP2-1361</td>\n",
       "      <td>0Backlog</td>\n",
       "      <td>2020-03-27T05:59:10.000-0400</td>\n",
       "    </tr>\n",
       "    <tr>\n",
       "      <th>2</th>\n",
       "      <td>CPP0-590</td>\n",
       "      <td>Open</td>\n",
       "      <td>CPP2-1361</td>\n",
       "      <td>Ready For Development</td>\n",
       "      <td>2020-03-27T05:59:27.000-0400</td>\n",
       "    </tr>\n",
       "    <tr>\n",
       "      <th>3</th>\n",
       "      <td>NaN</td>\n",
       "      <td>None</td>\n",
       "      <td>CPP2-1360</td>\n",
       "      <td>0Backlog</td>\n",
       "      <td>2020-03-27T04:51:33.000-0400</td>\n",
       "    </tr>\n",
       "    <tr>\n",
       "      <th>4</th>\n",
       "      <td>empty</td>\n",
       "      <td>0Backlog</td>\n",
       "      <td>CPP2-1360</td>\n",
       "      <td>Ready For Development</td>\n",
       "      <td>2020-03-27T04:53:03.000-0400</td>\n",
       "    </tr>\n",
       "  </tbody>\n",
       "</table>\n",
       "</div>"
      ],
      "text/plain": [
       "       epic      from        key                     to  \\\n",
       "0       NaN      None  CPP2-1362               0Backlog   \n",
       "1       NaN      None  CPP2-1361               0Backlog   \n",
       "2  CPP0-590      Open  CPP2-1361  Ready For Development   \n",
       "3       NaN      None  CPP2-1360               0Backlog   \n",
       "4     empty  0Backlog  CPP2-1360  Ready For Development   \n",
       "\n",
       "                             ts  \n",
       "0  2020-03-27T09:28:21.000-0400  \n",
       "1  2020-03-27T05:59:10.000-0400  \n",
       "2  2020-03-27T05:59:27.000-0400  \n",
       "3  2020-03-27T04:51:33.000-0400  \n",
       "4  2020-03-27T04:53:03.000-0400  "
      ]
     },
     "execution_count": 22,
     "metadata": {},
     "output_type": "execute_result"
    }
   ],
   "source": [
    "# preview the data\n",
    "transitions.head()"
   ]
  },
  {
   "cell_type": "code",
   "execution_count": 23,
   "metadata": {},
   "outputs": [
    {
     "name": "stdout",
     "output_type": "stream",
     "text": [
      "('from statuses:', array([None, u'Open', '0Backlog', u'Ready For Development', 'Development',\n",
      "       u'Ready for Code Review', u'Ready for Dev Testing',\n",
      "       u'In Dev Testing', u'Code Review'], dtype=object))\n",
      "('to statuses:', array(['0Backlog', u'Ready For Development', 'Development',\n",
      "       u'Ready for Code Review', u'Ready for Dev Testing',\n",
      "       u'In Dev Testing', '5Done', u'Code Review'], dtype=object))\n"
     ]
    }
   ],
   "source": [
    "# Print unique issue statuses so we can check if there's any unexpected value \n",
    "print('from statuses:', transitions['from'].unique())\n",
    "print('to statuses:',transitions['to'].unique())"
   ]
  },
  {
   "cell_type": "markdown",
   "metadata": {},
   "source": [
    "* Which features are mixed data types?\n",
    "    - Numerical, alphanumeric data within same feature. These are candidates for correcting goal. \n",
    "    \n",
    "    \n",
    "* Which features may contain errors or typos?\n",
    "    - This is harder to review for a large dataset, however reviewing a few samples from a smaller dataset may just tell us outright, which features may require correcting.  "
   ]
  },
  {
   "cell_type": "code",
   "execution_count": 24,
   "metadata": {},
   "outputs": [
    {
     "data": {
      "text/html": [
       "<div>\n",
       "<style scoped>\n",
       "    .dataframe tbody tr th:only-of-type {\n",
       "        vertical-align: middle;\n",
       "    }\n",
       "\n",
       "    .dataframe tbody tr th {\n",
       "        vertical-align: top;\n",
       "    }\n",
       "\n",
       "    .dataframe thead th {\n",
       "        text-align: right;\n",
       "    }\n",
       "</style>\n",
       "<table border=\"1\" class=\"dataframe\">\n",
       "  <thead>\n",
       "    <tr style=\"text-align: right;\">\n",
       "      <th></th>\n",
       "      <th>epic</th>\n",
       "      <th>from</th>\n",
       "      <th>key</th>\n",
       "      <th>to</th>\n",
       "      <th>ts</th>\n",
       "    </tr>\n",
       "  </thead>\n",
       "  <tbody>\n",
       "    <tr>\n",
       "      <th>114</th>\n",
       "      <td>CPP0-2010</td>\n",
       "      <td>Development</td>\n",
       "      <td>CPP2-1337</td>\n",
       "      <td>Ready for Code Review</td>\n",
       "      <td>2020-03-24T08:14:16.000-0400</td>\n",
       "    </tr>\n",
       "    <tr>\n",
       "      <th>115</th>\n",
       "      <td>CPP0-2010</td>\n",
       "      <td>Ready for Code Review</td>\n",
       "      <td>CPP2-1337</td>\n",
       "      <td>Development</td>\n",
       "      <td>2020-03-24T08:15:53.000-0400</td>\n",
       "    </tr>\n",
       "    <tr>\n",
       "      <th>116</th>\n",
       "      <td>CPP0-2010</td>\n",
       "      <td>Development</td>\n",
       "      <td>CPP2-1337</td>\n",
       "      <td>Ready for Dev Testing</td>\n",
       "      <td>2020-03-24T08:28:23.000-0400</td>\n",
       "    </tr>\n",
       "    <tr>\n",
       "      <th>117</th>\n",
       "      <td>CPP0-2010</td>\n",
       "      <td>Ready for Dev Testing</td>\n",
       "      <td>CPP2-1337</td>\n",
       "      <td>In Dev Testing</td>\n",
       "      <td>2020-03-25T05:38:00.000-0400</td>\n",
       "    </tr>\n",
       "    <tr>\n",
       "      <th>118</th>\n",
       "      <td>CPP0-2010</td>\n",
       "      <td>In Dev Testing</td>\n",
       "      <td>CPP2-1337</td>\n",
       "      <td>5Done</td>\n",
       "      <td>2020-03-25T05:38:20.000-0400</td>\n",
       "    </tr>\n",
       "  </tbody>\n",
       "</table>\n",
       "</div>"
      ],
      "text/plain": [
       "          epic                   from        key                     to  \\\n",
       "114  CPP0-2010            Development  CPP2-1337  Ready for Code Review   \n",
       "115  CPP0-2010  Ready for Code Review  CPP2-1337            Development   \n",
       "116  CPP0-2010            Development  CPP2-1337  Ready for Dev Testing   \n",
       "117  CPP0-2010  Ready for Dev Testing  CPP2-1337         In Dev Testing   \n",
       "118  CPP0-2010         In Dev Testing  CPP2-1337                  5Done   \n",
       "\n",
       "                               ts  \n",
       "114  2020-03-24T08:14:16.000-0400  \n",
       "115  2020-03-24T08:15:53.000-0400  \n",
       "116  2020-03-24T08:28:23.000-0400  \n",
       "117  2020-03-25T05:38:00.000-0400  \n",
       "118  2020-03-25T05:38:20.000-0400  "
      ]
     },
     "execution_count": 24,
     "metadata": {},
     "output_type": "execute_result"
    }
   ],
   "source": [
    "transitions.tail()"
   ]
  },
  {
   "cell_type": "markdown",
   "metadata": {},
   "source": [
    "* Which features contain blank, null or empty values?\n",
    "  - These will require correcting.\n",
    "  \n",
    "  \n",
    "* What are the data types for various features?\n",
    "  - Helping us during converting goal."
   ]
  },
  {
   "cell_type": "code",
   "execution_count": 25,
   "metadata": {},
   "outputs": [
    {
     "name": "stdout",
     "output_type": "stream",
     "text": [
      "<class 'pandas.core.frame.DataFrame'>\n",
      "RangeIndex: 119 entries, 0 to 118\n",
      "Data columns (total 5 columns):\n",
      "epic    93 non-null object\n",
      "from    93 non-null object\n",
      "key     119 non-null object\n",
      "to      119 non-null object\n",
      "ts      119 non-null object\n",
      "dtypes: object(5)\n",
      "memory usage: 4.7+ KB\n"
     ]
    }
   ],
   "source": [
    "transitions.info()"
   ]
  },
  {
   "cell_type": "markdown",
   "metadata": {},
   "source": [
    "* What is the distribution of numerical feature values across the samples?\n",
    "  - This helps us determine, among other early insights, how representative is the training dataset of the actual problem domain. Eg. there are more unique features than expected? More unique 'from's or 'to's than your board have status  inidicates that a status_alias is missing"
   ]
  },
  {
   "cell_type": "code",
   "execution_count": 26,
   "metadata": {},
   "outputs": [
    {
     "data": {
      "text/html": [
       "<div>\n",
       "<style scoped>\n",
       "    .dataframe tbody tr th:only-of-type {\n",
       "        vertical-align: middle;\n",
       "    }\n",
       "\n",
       "    .dataframe tbody tr th {\n",
       "        vertical-align: top;\n",
       "    }\n",
       "\n",
       "    .dataframe thead th {\n",
       "        text-align: right;\n",
       "    }\n",
       "</style>\n",
       "<table border=\"1\" class=\"dataframe\">\n",
       "  <thead>\n",
       "    <tr style=\"text-align: right;\">\n",
       "      <th></th>\n",
       "      <th>epic</th>\n",
       "      <th>from</th>\n",
       "      <th>key</th>\n",
       "      <th>to</th>\n",
       "      <th>ts</th>\n",
       "    </tr>\n",
       "  </thead>\n",
       "  <tbody>\n",
       "    <tr>\n",
       "      <th>count</th>\n",
       "      <td>93</td>\n",
       "      <td>93</td>\n",
       "      <td>119</td>\n",
       "      <td>119</td>\n",
       "      <td>119</td>\n",
       "    </tr>\n",
       "    <tr>\n",
       "      <th>unique</th>\n",
       "      <td>3</td>\n",
       "      <td>8</td>\n",
       "      <td>26</td>\n",
       "      <td>8</td>\n",
       "      <td>118</td>\n",
       "    </tr>\n",
       "    <tr>\n",
       "      <th>top</th>\n",
       "      <td>empty</td>\n",
       "      <td>Development</td>\n",
       "      <td>CPP2-1342</td>\n",
       "      <td>Development</td>\n",
       "      <td>2020-03-26T12:21:23.000-0400</td>\n",
       "    </tr>\n",
       "    <tr>\n",
       "      <th>freq</th>\n",
       "      <td>85</td>\n",
       "      <td>26</td>\n",
       "      <td>15</td>\n",
       "      <td>27</td>\n",
       "      <td>2</td>\n",
       "    </tr>\n",
       "  </tbody>\n",
       "</table>\n",
       "</div>"
      ],
      "text/plain": [
       "         epic         from        key           to  \\\n",
       "count      93           93        119          119   \n",
       "unique      3            8         26            8   \n",
       "top     empty  Development  CPP2-1342  Development   \n",
       "freq       85           26         15           27   \n",
       "\n",
       "                                  ts  \n",
       "count                            119  \n",
       "unique                           118  \n",
       "top     2020-03-26T12:21:23.000-0400  \n",
       "freq                               2  "
      ]
     },
     "execution_count": 26,
     "metadata": {},
     "output_type": "execute_result"
    }
   ],
   "source": [
    "transitions.describe(include=['O'])\n"
   ]
  },
  {
   "cell_type": "markdown",
   "metadata": {},
   "source": []
  },
  {
   "cell_type": "markdown",
   "metadata": {},
   "source": [
    "## Create more features"
   ]
  },
  {
   "cell_type": "markdown",
   "metadata": {},
   "source": [
    "* How long it takes in each board phase?"
   ]
  },
  {
   "cell_type": "code",
   "execution_count": 27,
   "metadata": {},
   "outputs": [
    {
     "data": {
      "text/html": [
       "<div>\n",
       "<style scoped>\n",
       "    .dataframe tbody tr th:only-of-type {\n",
       "        vertical-align: middle;\n",
       "    }\n",
       "\n",
       "    .dataframe tbody tr th {\n",
       "        vertical-align: top;\n",
       "    }\n",
       "\n",
       "    .dataframe thead th {\n",
       "        text-align: right;\n",
       "    }\n",
       "</style>\n",
       "<table border=\"1\" class=\"dataframe\">\n",
       "  <thead>\n",
       "    <tr style=\"text-align: right;\">\n",
       "      <th></th>\n",
       "      <th>0Backlog</th>\n",
       "      <th>Code Review</th>\n",
       "      <th>Development</th>\n",
       "      <th>In Dev Testing</th>\n",
       "      <th>Open</th>\n",
       "      <th>Ready For Development</th>\n",
       "      <th>Ready for Code Review</th>\n",
       "      <th>Ready for Dev Testing</th>\n",
       "    </tr>\n",
       "  </thead>\n",
       "  <tbody>\n",
       "    <tr>\n",
       "      <th>count</th>\n",
       "      <td>17</td>\n",
       "      <td>1</td>\n",
       "      <td>11</td>\n",
       "      <td>8</td>\n",
       "      <td>3</td>\n",
       "      <td>13</td>\n",
       "      <td>9</td>\n",
       "      <td>8</td>\n",
       "    </tr>\n",
       "    <tr>\n",
       "      <th>mean</th>\n",
       "      <td>0 days 06:04:04.941176</td>\n",
       "      <td>0 days 00:00:17</td>\n",
       "      <td>0 days 06:28:50.272727</td>\n",
       "      <td>0 days 00:00:50</td>\n",
       "      <td>0 days 00:00:31.333333</td>\n",
       "      <td>0 days 23:34:06.692307</td>\n",
       "      <td>0 days 18:49:49.222222</td>\n",
       "      <td>0 days 02:48:21.875000</td>\n",
       "    </tr>\n",
       "    <tr>\n",
       "      <th>std</th>\n",
       "      <td>0 days 11:56:45.719354</td>\n",
       "      <td>NaT</td>\n",
       "      <td>0 days 09:28:05.306799</td>\n",
       "      <td>0 days 00:01:39.912819</td>\n",
       "      <td>0 days 00:00:27.465129</td>\n",
       "      <td>1 days 02:00:44.412093</td>\n",
       "      <td>0 days 21:54:22.733877</td>\n",
       "      <td>0 days 07:25:47.048373</td>\n",
       "    </tr>\n",
       "    <tr>\n",
       "      <th>min</th>\n",
       "      <td>0 days 00:00:07</td>\n",
       "      <td>0 days 00:00:17</td>\n",
       "      <td>0 days 00:12:42</td>\n",
       "      <td>0 days 00:00:06</td>\n",
       "      <td>0 days 00:00:14</td>\n",
       "      <td>0 days 00:00:05</td>\n",
       "      <td>0 days 00:01:37</td>\n",
       "      <td>0 days 00:00:03</td>\n",
       "    </tr>\n",
       "    <tr>\n",
       "      <th>25%</th>\n",
       "      <td>0 days 00:00:25</td>\n",
       "      <td>0 days 00:00:17</td>\n",
       "      <td>0 days 00:35:38</td>\n",
       "      <td>0 days 00:00:06.750000</td>\n",
       "      <td>0 days 00:00:15.500000</td>\n",
       "      <td>0 days 02:02:25</td>\n",
       "      <td>0 days 01:56:58</td>\n",
       "      <td>0 days 00:00:04</td>\n",
       "    </tr>\n",
       "    <tr>\n",
       "      <th>50%</th>\n",
       "      <td>0 days 00:00:46</td>\n",
       "      <td>0 days 00:00:17</td>\n",
       "      <td>0 days 01:08:56</td>\n",
       "      <td>0 days 00:00:14.500000</td>\n",
       "      <td>0 days 00:00:17</td>\n",
       "      <td>0 days 21:22:05</td>\n",
       "      <td>0 days 14:23:10</td>\n",
       "      <td>0 days 00:00:04.500000</td>\n",
       "    </tr>\n",
       "    <tr>\n",
       "      <th>75%</th>\n",
       "      <td>0 days 01:46:33</td>\n",
       "      <td>0 days 00:00:17</td>\n",
       "      <td>0 days 08:32:24</td>\n",
       "      <td>0 days 00:00:24</td>\n",
       "      <td>0 days 00:00:40</td>\n",
       "      <td>1 days 03:39:16</td>\n",
       "      <td>0 days 21:27:57</td>\n",
       "      <td>0 days 00:19:17</td>\n",
       "    </tr>\n",
       "    <tr>\n",
       "      <th>max</th>\n",
       "      <td>1 days 17:19:12</td>\n",
       "      <td>0 days 00:00:17</td>\n",
       "      <td>1 days 03:19:05</td>\n",
       "      <td>0 days 00:04:56</td>\n",
       "      <td>0 days 00:01:03</td>\n",
       "      <td>3 days 18:33:35</td>\n",
       "      <td>2 days 18:10:42</td>\n",
       "      <td>0 days 21:09:37</td>\n",
       "    </tr>\n",
       "  </tbody>\n",
       "</table>\n",
       "</div>"
      ],
      "text/plain": [
       "                     0Backlog      Code Review             Development  \\\n",
       "count                      17                1                      11   \n",
       "mean   0 days 06:04:04.941176  0 days 00:00:17  0 days 06:28:50.272727   \n",
       "std    0 days 11:56:45.719354              NaT  0 days 09:28:05.306799   \n",
       "min           0 days 00:00:07  0 days 00:00:17         0 days 00:12:42   \n",
       "25%           0 days 00:00:25  0 days 00:00:17         0 days 00:35:38   \n",
       "50%           0 days 00:00:46  0 days 00:00:17         0 days 01:08:56   \n",
       "75%           0 days 01:46:33  0 days 00:00:17         0 days 08:32:24   \n",
       "max           1 days 17:19:12  0 days 00:00:17         1 days 03:19:05   \n",
       "\n",
       "               In Dev Testing                    Open   Ready For Development  \\\n",
       "count                       8                       3                      13   \n",
       "mean          0 days 00:00:50  0 days 00:00:31.333333  0 days 23:34:06.692307   \n",
       "std    0 days 00:01:39.912819  0 days 00:00:27.465129  1 days 02:00:44.412093   \n",
       "min           0 days 00:00:06         0 days 00:00:14         0 days 00:00:05   \n",
       "25%    0 days 00:00:06.750000  0 days 00:00:15.500000         0 days 02:02:25   \n",
       "50%    0 days 00:00:14.500000         0 days 00:00:17         0 days 21:22:05   \n",
       "75%           0 days 00:00:24         0 days 00:00:40         1 days 03:39:16   \n",
       "max           0 days 00:04:56         0 days 00:01:03         3 days 18:33:35   \n",
       "\n",
       "        Ready for Code Review   Ready for Dev Testing  \n",
       "count                       9                       8  \n",
       "mean   0 days 18:49:49.222222  0 days 02:48:21.875000  \n",
       "std    0 days 21:54:22.733877  0 days 07:25:47.048373  \n",
       "min           0 days 00:01:37         0 days 00:00:03  \n",
       "25%           0 days 01:56:58         0 days 00:00:04  \n",
       "50%           0 days 14:23:10  0 days 00:00:04.500000  \n",
       "75%           0 days 21:27:57         0 days 00:19:17  \n",
       "max           2 days 18:10:42         0 days 21:09:37  "
      ]
     },
     "execution_count": 27,
     "metadata": {},
     "output_type": "execute_result"
    }
   ],
   "source": [
    "# Use transitions to generate the historic of a issue\n",
    "def board_time(transitions):        \n",
    "    last_iteration = None\n",
    "    last_issue = None\n",
    "    last_epic = None\n",
    "    \n",
    "    rows = []\n",
    "    collumns = {}    \n",
    "    for _, transition in transitions.sort_values(by=['key', 'ts'], ascending=True).iterrows():\n",
    "        dt = pd.to_datetime(transition['ts'])              \n",
    "        if transition['key'] != last_issue and last_issue is not None:\n",
    "            collumns['issue'] = last_issue\n",
    "            collumns['epic'] = last_epic\n",
    "            rows.append(collumns)\n",
    "            collumns = {}\n",
    "        \n",
    "        if transition['from'] is not None:\n",
    "            elapsed =  dt - last_iteration            \n",
    "            if transition['from'] in collumns:\n",
    "                collumns[transition['from']] += elapsed \n",
    "            else:\n",
    "                collumns[transition['from']] = elapsed\n",
    "        else:\n",
    "            collumns['started'] = dt\n",
    "                \n",
    "        last_iteration = dt\n",
    "        last_issue = transition['key']\n",
    "        last_epic = transition['epic']\n",
    "    return DataFrame(rows)\n",
    "\n",
    "df = board_time(transitions)\n",
    "df.head()\n",
    "df.describe()"
   ]
  },
  {
   "cell_type": "markdown",
   "metadata": {},
   "source": [
    "## Cumulative Flow Diagram"
   ]
  },
  {
   "cell_type": "code",
   "execution_count": 28,
   "metadata": {},
   "outputs": [
    {
     "name": "stderr",
     "output_type": "stream",
     "text": [
      "C:\\Users\\vnabatov\\.windows-build-tools\\python27\\lib\\site-packages\\ipykernel_launcher.py:38: FutureWarning: \n",
      "The current behaviour of 'Series.argmax' is deprecated, use 'idxmax'\n",
      "instead.\n",
      "The behavior of 'argmax' will be corrected to return the positional\n",
      "maximum in the future. For now, use 'series.values.argmax' or\n",
      "'np.argmax(np.array(values))' to get the position of the maximum\n",
      "row.\n"
     ]
    },
    {
     "data": {
      "image/png": "[encoded data removed]",
      "text/plain": [
       "<Figure size 864x432 with 1 Axes>"
      ]
     },
     "metadata": {
      "needs_background": "light"
     },
     "output_type": "display_data"
    }
   ],
   "source": [
    "def cfd(transitions):\n",
    "    y = {}\n",
    "    x = []\n",
    "    states = transitions['to'].append(transitions['from']).unique()\n",
    "    for state in states:    \n",
    "        if state is not None:\n",
    "            y[state] = []\n",
    "            \n",
    "    for _, transition in transitions.sort_values(by=['ts'], ascending=True).iterrows():   \n",
    "        if transition['to'] != transition['from']:\n",
    "            x.append(pd.to_datetime(transition['ts']))\n",
    "            for state in states:\n",
    "                if state is not None:\n",
    "                    last_value = 0 if not y[state] else y[state][-1]\n",
    "                    if state == transition['from']:\n",
    "                        y[state].append(last_value - 1)\n",
    "                    elif state == transition['to']:\n",
    "                        y[state].append(last_value + 1)\n",
    "                    else: \n",
    "                        y[state].append(last_value)\n",
    "    y['ts'] = x\n",
    "    return DataFrame(y)\n",
    "\n",
    "cfd = cfd(transitions)\n",
    "fig, ax = plt.subplots()\n",
    "columns = cfd.drop('ts',1).columns.sort_values(ascending=False)\n",
    "x = cfd['ts'].values\n",
    "y = []\n",
    "\n",
    "area_labels=[]\n",
    "for column in columns:\n",
    "    y.append(cfd[column])\n",
    "    area_labels.append(column)\n",
    "\n",
    "\n",
    "stack = 0\n",
    "for index, item in enumerate(y):\n",
    "    max_index = y[index].argmax()\n",
    "    date_peak = x[max_index]\n",
    "    \n",
    "    quartile = 1/(index+1)\n",
    "    \n",
    "    ax.text(date_peak, y[index][max_index]* quartile, area_labels[index])\n",
    "    stack += y[index][max_index]\n",
    "\n",
    "ax.stackplot(x, y)\n",
    "\n",
    "\n",
    "#loc = y2.argmax()\n",
    "#ax.text(loc, y1[loc] + y2[loc]*0.33, areaLabels[1])\n",
    "\n",
    "#loc = y3.argmax()\n",
    "#ax.text(loc, y1[loc] + y2[loc] + y3[loc]*0.75, areaLabels[2]) \n",
    "\n",
    "plt.show()\n"
   ]
  },
  {
   "cell_type": "code",
   "execution_count": null,
   "metadata": {},
   "outputs": [],
   "source": []
  },
  {
   "cell_type": "markdown",
   "metadata": {},
   "source": [
    "## WIP\n",
    "* How many issues currently is in board"
   ]
  },
  {
   "cell_type": "code",
   "execution_count": 29,
   "metadata": {},
   "outputs": [],
   "source": [
    "def wip(transitions):\n",
    "    current_wip = 0\n",
    "    wips = []\n",
    "    for _, transition in transitions.sort_values(by=['key', 'ts'], ascending=True).iterrows():        \n",
    "        if transition['from'] == '0Backlog' and transition['to'] not in ('5Done', '4Rejected'):\n",
    "            current_wip+=1\n",
    "        elif transition['to'] in ('0Backlog', '5Done', '4Rejected') and transition['from'] not in ('0Backlog','5Done', '4Rejected', None):\n",
    "            current_wip-=1\n",
    "        wips.append({'ts': pd.to_datetime(transition['ts']), 'wip': current_wip})\n",
    "    return pd.DataFrame(wips)\n",
    "wip = wip(transitions).sort_values(by='ts', ascending=True)"
   ]
  },
  {
   "cell_type": "code",
   "execution_count": 30,
   "metadata": {},
   "outputs": [
    {
     "data": {
      "text/plain": [
       "(array([737507.45833333, 737507.95833333, 737508.45833333, 737508.95833333,\n",
       "        737509.45833333, 737509.95833333, 737510.45833333, 737510.95833333,\n",
       "        737511.45833333]), <a list of 9 Text xticklabel objects>)"
      ]
     },
     "execution_count": 30,
     "metadata": {},
     "output_type": "execute_result"
    },
    {
     "data": {
      "image/png": "[encoded data removed]",
      "text/plain": [
       "<Figure size 864x432 with 1 Axes>"
      ]
     },
     "metadata": {
      "needs_background": "light"
     },
     "output_type": "display_data"
    }
   ],
   "source": [
    "plt.plot(wip['ts'],wip['wip'])\n",
    "plt.xticks(rotation='vertical')"
   ]
  },
  {
   "cell_type": "code",
   "execution_count": 31,
   "metadata": {},
   "outputs": [
    {
     "data": {
      "text/html": [
       "<div>\n",
       "<style scoped>\n",
       "    .dataframe tbody tr th:only-of-type {\n",
       "        vertical-align: middle;\n",
       "    }\n",
       "\n",
       "    .dataframe tbody tr th {\n",
       "        vertical-align: top;\n",
       "    }\n",
       "\n",
       "    .dataframe thead th {\n",
       "        text-align: right;\n",
       "    }\n",
       "</style>\n",
       "<table border=\"1\" class=\"dataframe\">\n",
       "  <thead>\n",
       "    <tr style=\"text-align: right;\">\n",
       "      <th></th>\n",
       "      <th>wip</th>\n",
       "    </tr>\n",
       "  </thead>\n",
       "  <tbody>\n",
       "    <tr>\n",
       "      <th>count</th>\n",
       "      <td>119.00000</td>\n",
       "    </tr>\n",
       "    <tr>\n",
       "      <th>mean</th>\n",
       "      <td>3.07563</td>\n",
       "    </tr>\n",
       "    <tr>\n",
       "      <th>std</th>\n",
       "      <td>1.80939</td>\n",
       "    </tr>\n",
       "    <tr>\n",
       "      <th>min</th>\n",
       "      <td>0.00000</td>\n",
       "    </tr>\n",
       "    <tr>\n",
       "      <th>25%</th>\n",
       "      <td>1.00000</td>\n",
       "    </tr>\n",
       "    <tr>\n",
       "      <th>50%</th>\n",
       "      <td>4.00000</td>\n",
       "    </tr>\n",
       "    <tr>\n",
       "      <th>75%</th>\n",
       "      <td>5.00000</td>\n",
       "    </tr>\n",
       "    <tr>\n",
       "      <th>max</th>\n",
       "      <td>6.00000</td>\n",
       "    </tr>\n",
       "  </tbody>\n",
       "</table>\n",
       "</div>"
      ],
      "text/plain": [
       "             wip\n",
       "count  119.00000\n",
       "mean     3.07563\n",
       "std      1.80939\n",
       "min      0.00000\n",
       "25%      1.00000\n",
       "50%      4.00000\n",
       "75%      5.00000\n",
       "max      6.00000"
      ]
     },
     "execution_count": 31,
     "metadata": {},
     "output_type": "execute_result"
    }
   ],
   "source": [
    "wip.describe()"
   ]
  }
 ],
 "metadata": {
  "kernelspec": {
   "display_name": "Python 2",
   "language": "python",
   "name": "python2"
  },
  "language_info": {
   "codemirror_mode": {
    "name": "ipython",
    "version": 2
   },
   "file_extension": ".py",
   "mimetype": "text/x-python",
   "name": "python",
   "nbconvert_exporter": "python",
   "pygments_lexer": "ipython2",
   "version": "2.7.15"
  }
 },
 "nbformat": 4,
 "nbformat_minor": 2
}
